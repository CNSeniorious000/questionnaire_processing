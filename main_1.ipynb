{
 "cells": [
  {
   "cell_type": "code",
   "execution_count": null,
   "metadata": {},
   "outputs": [],
   "source": [
    "# from rich import pretty; pretty.install()\n",
    "import core; core.delay = 1\n",
    "import main as core\n",
    "from main import *\n",
    "# from rich import *\n",
    "from importlib import reload\n",
    "core = reload(core)\n",
    "items"
   ]
  },
  {
   "cell_type": "markdown",
   "metadata": {},
   "source": [
    "#### **对数据来源的大致分析**"
   ]
  },
  {
   "cell_type": "markdown",
   "metadata": {},
   "source": [
    "##### 1. 提交时间分布-散点图\n",
    "\n",
    "从中可以看出提交集中在五次，其中第二三次时间在白天，且时间较为分散"
   ]
  },
  {
   "cell_type": "code",
   "execution_count": null,
   "metadata": {},
   "outputs": [],
   "source": [
    "core.show_submit_time()"
   ]
  },
  {
   "cell_type": "markdown",
   "metadata": {},
   "source": [
    "##### 2. 用时分布-散点图"
   ]
  },
  {
   "cell_type": "code",
   "execution_count": null,
   "metadata": {},
   "outputs": [],
   "source": [
    "core.show_time_used(table, index)"
   ]
  },
  {
   "cell_type": "code",
   "execution_count": null,
   "metadata": {},
   "outputs": [],
   "source": [
    "y = [0] * (4 * 6 + 1)\n",
    "for i in time_cost:\n",
    "    y[min(i//15,24)] += 1\n",
    "(\n",
    "    Bar(get_init_options())\n",
    "    .add_xaxis([f\"{i/4}\" for i in range(24)] + [\"6+\"])\n",
    "    .add_yaxis(\"\", y)\n",
    ").render_notebook()"
   ]
  },
  {
   "cell_type": "code",
   "execution_count": null,
   "metadata": {},
   "outputs": [],
   "source": [
    "print(sorted(time_cost))"
   ]
  },
  {
   "cell_type": "markdown",
   "metadata": {},
   "source": [
    "##### 3. 提交时间与用时的分布-散点图"
   ]
  },
  {
   "cell_type": "code",
   "execution_count": null,
   "metadata": {},
   "outputs": [],
   "source": [
    "core.show_used_comp_submit_2()"
   ]
  },
  {
   "cell_type": "markdown",
   "metadata": {},
   "source": [
    "显然数据分为五个主要的区块，且除了第二个区块平均时间偏少外，其他区块用时分布相似（即问卷质量较为稳定）"
   ]
  },
  {
   "cell_type": "markdown",
   "metadata": {},
   "source": [
    "##### 来源地区-词云图"
   ]
  },
  {
   "cell_type": "code",
   "execution_count": null,
   "metadata": {},
   "outputs": [],
   "source": [
    "from collections import Counter\n",
    "item_name = \"来自IP\"\n",
    "words = list(Counter([i[i.rindex(\"-\")+1:i.rindex(\")\")] for i in table[item_name]]).items())\n",
    "(\n",
    "    WordCloud(init_opts=get_init_options())\n",
    "    .add(\"\", words, word_size_range=(17,30))\n",
    "    .set_global_opts(title_opts=opts.TitleOpts(title=\"词云图\"))\n",
    "    .render_notebook()\n",
    ")"
   ]
  }
 ],
 "metadata": {
  "interpreter": {
   "hash": "b89b5cfaba6639976dc87ff2fec6d58faec662063367e2c229c520fe71072417"
  },
  "kernelspec": {
   "display_name": "Python 3.10.2 64-bit",
   "language": "python",
   "name": "python3"
  },
  "language_info": {
   "codemirror_mode": {
    "name": "ipython",
    "version": 3
   },
   "file_extension": ".py",
   "mimetype": "text/x-python",
   "name": "python",
   "nbconvert_exporter": "python",
   "pygments_lexer": "ipython3",
   "version": "3.10.2"
  },
  "orig_nbformat": 4
 },
 "nbformat": 4,
 "nbformat_minor": 2
}
