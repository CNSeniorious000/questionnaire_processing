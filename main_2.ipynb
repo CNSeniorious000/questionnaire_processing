{
 "cells": [
  {
   "cell_type": "code",
   "execution_count": null,
   "metadata": {},
   "outputs": [],
   "source": [
    "def parse(lst):\n",
    "    it = iter(lst)\n",
    "    title = next(it)\n",
    "    columns = next(it).split()[1:]\n",
    "    xy = [i.split()[1:] for i in it]\n",
    "    return title, columns, xy\n",
    "\n",
    "def modify(lst, transpose=True):\n",
    "    out = []\n",
    "    for row in lst:\n",
    "        out.append(this:=[])\n",
    "        for val in row:\n",
    "            match val:\n",
    "                case '-': this.append(None)\n",
    "                case str() if val.endswith('%'): this.append(float(val[:-1]))\n",
    "                case str(): this.append(int(val))\n",
    "    return list(zip(*out)) if transpose else out\n",
    "\n",
    "data = [\n",
    "    [i.strip() for i in each.split('\\r\\n') if i.strip()]\n",
    "    for each in open(\"data/2.txt\", \"rb\").read().decode().split('####')\n",
    "]\n",
    "\n",
    "from pyecharts.charts import *\n",
    "from pyecharts import options as opts\n",
    "from pyecharts.globals import ThemeType\n",
    "global_theme = ThemeType.ESSOS\n",
    "\n",
    "def show_plots(index, lines=(), bars=(), separator='、', smooth=0.25, percentage=False):\n",
    "    title, columns, xy = parse(data[index])\n",
    "    yx = modify(xy)\n",
    "\n",
    "    line = bar = None\n",
    "\n",
    "    if lines:\n",
    "        subtitle = separator.join(columns[i] for i in lines)\n",
    "        line = (\n",
    "            Line(opts.InitOpts(\"920px\", \"480px\", theme=global_theme))\n",
    "            .add_xaxis(\"2015 2016 2017 2018 2019\".split())\n",
    "            .set_global_opts(\n",
    "                title_opts=opts.TitleOpts(f\"{title}: {subtitle}\"),\n",
    "                yaxis_opts=opts.AxisOpts(name=\"比例/%\" if percentage else \"人数/人\", is_scale=True),\n",
    "                xaxis_opts=opts.AxisOpts(name=\"年份\"),\n",
    "                legend_opts=opts.LegendOpts(\n",
    "                    pos_right=0, pos_bottom=\"15%\", align=\"right\", orient=\"vertical\"\n",
    "                )\n",
    "            )\n",
    "        )\n",
    "        for i in lines:\n",
    "            line.add_yaxis(\n",
    "                columns[i], yx[i], is_connect_nones=True, is_smooth=smooth,\n",
    "                linestyle_opts=opts.LineStyleOpts(width=2.5),\n",
    "                itemstyle_opts=opts.ItemStyleOpts(border_width=1.5)\n",
    "            )\n",
    "    if bars:\n",
    "        subtitle = separator.join(columns[i] for i in bars)\n",
    "        bar = (\n",
    "            Bar(opts.InitOpts(\"920px\", \"480px\", theme=global_theme))\n",
    "            .add_xaxis(\"2015 2016 2017 2018 2019\".split())\n",
    "            .set_global_opts(\n",
    "                title_opts=opts.TitleOpts(f\"{title}: {subtitle}\"),\n",
    "                yaxis_opts=opts.AxisOpts(name=\"比例/%\", is_scale=True),\n",
    "                xaxis_opts=opts.AxisOpts(name=\"年份\"),\n",
    "                legend_opts=opts.LegendOpts(\n",
    "                    pos_right=0, pos_bottom=\"15%\", align=\"right\", orient=\"vertical\"\n",
    "                )\n",
    "            )\n",
    "        )\n",
    "        for i in bars:\n",
    "            bar.add_yaxis(\n",
    "                columns[i], yx[i],\n",
    "                label_opts=opts.LabelOpts()\n",
    "            )\n",
    "\n",
    "    return (Page(title).add(line,bar) if line and bar else line or bar).render_notebook()"
   ]
  },
  {
   "cell_type": "code",
   "execution_count": null,
   "metadata": {},
   "outputs": [],
   "source": [
    "show_plots(0, (0,1), (2,3))"
   ]
  },
  {
   "cell_type": "code",
   "execution_count": null,
   "metadata": {},
   "outputs": [],
   "source": [
    "show_plots(1, range(len(data[1][1].split())-1), percentage=True)"
   ]
  },
  {
   "cell_type": "code",
   "execution_count": null,
   "metadata": {},
   "outputs": [],
   "source": [
    "show_plots(2, range(len(data[2][1].split())-1), percentage=True)"
   ]
  },
  {
   "cell_type": "code",
   "execution_count": null,
   "metadata": {},
   "outputs": [],
   "source": [
    "show_plots(3, range(len(data[3][1].split())-1), percentage=True)"
   ]
  },
  {
   "cell_type": "code",
   "execution_count": null,
   "metadata": {},
   "outputs": [],
   "source": [
    "show_plots(4, range(len(data[4][1].split())-1), percentage=True)"
   ]
  },
  {
   "cell_type": "code",
   "execution_count": null,
   "metadata": {},
   "outputs": [],
   "source": [
    "show_plots(5, range(len(data[5][1].split())-1), percentage=True)"
   ]
  },
  {
   "cell_type": "code",
   "execution_count": null,
   "metadata": {},
   "outputs": [],
   "source": [
    "show_plots(6, range(len(data[6][1].split())-1), percentage=True)"
   ]
  },
  {
   "cell_type": "code",
   "execution_count": null,
   "metadata": {},
   "outputs": [],
   "source": [
    "from main import riverize\n",
    "\n",
    "def show_river(index:int, parse_percentage=False):\n",
    "    title, columns, xy = parse(data[index])\n",
    "    if parse_percentage()\n",
    "    return riverize(xy, [str(i) for i in range(2015,2020)], columns, title, \"年份\", 2015, 2019)\n",
    "\n",
    "show_river(1)"
   ]
  },
  {
   "cell_type": "code",
   "execution_count": null,
   "metadata": {},
   "outputs": [],
   "source": [
    "fill_null()"
   ]
  },
  {
   "cell_type": "code",
   "execution_count": null,
   "metadata": {},
   "outputs": [],
   "source": [
    "def show_river_for_percentage(index:int):\n",
    "    title, columns, xy = parse(data[index])"
   ]
  },
  {
   "cell_type": "code",
   "execution_count": null,
   "metadata": {},
   "outputs": [],
   "source": []
  }
 ],
 "metadata": {
  "interpreter": {
   "hash": "b89b5cfaba6639976dc87ff2fec6d58faec662063367e2c229c520fe71072417"
  },
  "kernelspec": {
   "display_name": "Python 3.10.2 64-bit",
   "language": "python",
   "name": "python3"
  },
  "language_info": {
   "codemirror_mode": {
    "name": "ipython",
    "version": 3
   },
   "file_extension": ".py",
   "mimetype": "text/x-python",
   "name": "python",
   "nbconvert_exporter": "python",
   "pygments_lexer": "ipython3",
   "version": "3.10.2"
  },
  "orig_nbformat": 4
 },
 "nbformat": 4,
 "nbformat_minor": 2
}
